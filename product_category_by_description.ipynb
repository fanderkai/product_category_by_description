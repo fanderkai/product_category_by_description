{
 "cells": [
  {
   "cell_type": "code",
   "execution_count": 1,
   "metadata": {
    "id": "MXdMkb86BKvM"
   },
   "outputs": [
    {
     "name": "stdout",
     "output_type": "stream",
     "text": [
      "WARNING:tensorflow:From C:\\Users\\ASUS\\anaconda3\\Lib\\site-packages\\keras\\src\\losses.py:2976: The name tf.losses.sparse_softmax_cross_entropy is deprecated. Please use tf.compat.v1.losses.sparse_softmax_cross_entropy instead.\n",
      "\n"
     ]
    }
   ],
   "source": [
    "import pandas as pd\n",
    "import tensorflow as tf\n",
    "import matplotlib.pyplot as plt\n",
    "import nltk\n",
    "from tensorflow.keras.preprocessing.text import Tokenizer\n",
    "from tensorflow.keras.preprocessing.sequence import pad_sequences\n",
    "from sklearn.model_selection import train_test_split\n",
    "from nltk.corpus import stopwords\n",
    "from nltk.tokenize import word_tokenize"
   ]
  },
  {
   "cell_type": "code",
   "execution_count": 2,
   "metadata": {},
   "outputs": [],
   "source": [
    "import logging\n",
    "logging.getLogger('tensorflow').disabled = True"
   ]
  },
  {
   "cell_type": "code",
   "execution_count": 3,
   "metadata": {
    "colab": {
     "base_uri": "https://localhost:8080/",
     "height": 206
    },
    "id": "X_kqJTklIW1V",
    "outputId": "c6865c9c-baf2-4d10-f89a-b1b7e559f6f1"
   },
   "outputs": [
    {
     "data": {
      "text/html": [
       "<div>\n",
       "<style scoped>\n",
       "    .dataframe tbody tr th:only-of-type {\n",
       "        vertical-align: middle;\n",
       "    }\n",
       "\n",
       "    .dataframe tbody tr th {\n",
       "        vertical-align: top;\n",
       "    }\n",
       "\n",
       "    .dataframe thead th {\n",
       "        text-align: right;\n",
       "    }\n",
       "</style>\n",
       "<table border=\"1\" class=\"dataframe\">\n",
       "  <thead>\n",
       "    <tr style=\"text-align: right;\">\n",
       "      <th></th>\n",
       "      <th>Unnamed: 0</th>\n",
       "      <th>Category</th>\n",
       "      <th>SubCategory</th>\n",
       "      <th>ProductName</th>\n",
       "      <th>Description</th>\n",
       "    </tr>\n",
       "  </thead>\n",
       "  <tbody>\n",
       "    <tr>\n",
       "      <th>0</th>\n",
       "      <td>8037</td>\n",
       "      <td>Accessories</td>\n",
       "      <td>Bags</td>\n",
       "      <td>\"Prada Striped Shell Belt Bag\"</td>\n",
       "      <td>\"One of Prada's most functional designs, this ...</td>\n",
       "    </tr>\n",
       "    <tr>\n",
       "      <th>1</th>\n",
       "      <td>13670</td>\n",
       "      <td>Accessories</td>\n",
       "      <td>Socks</td>\n",
       "      <td>\"Falke - Lhasa Wool And Cashmere-blend Socks -...</td>\n",
       "      <td>\"Falke - Casual yet luxurious, Falke's dark na...</td>\n",
       "    </tr>\n",
       "    <tr>\n",
       "      <th>2</th>\n",
       "      <td>13983</td>\n",
       "      <td>Suits</td>\n",
       "      <td>Tuxedos</td>\n",
       "      <td>\"peak lapel tuxedo suit jacket\"</td>\n",
       "      <td>\"White and black linen blend peak lapel tuxedo...</td>\n",
       "    </tr>\n",
       "    <tr>\n",
       "      <th>3</th>\n",
       "      <td>12081</td>\n",
       "      <td>Accessories</td>\n",
       "      <td>Gloves</td>\n",
       "      <td>\"Thom Browne Navy 4-Bar Rib Gloves\"</td>\n",
       "      <td>\"Pair of rib knit cashmere gloves in navy. Sig...</td>\n",
       "    </tr>\n",
       "    <tr>\n",
       "      <th>4</th>\n",
       "      <td>15617</td>\n",
       "      <td>Accessories</td>\n",
       "      <td>Cufflinks</td>\n",
       "      <td>\"Alice Made This - Bayley Round Patina-brass C...</td>\n",
       "      <td>\"Alice Made This - Made in the UK, these teal ...</td>\n",
       "    </tr>\n",
       "  </tbody>\n",
       "</table>\n",
       "</div>"
      ],
      "text/plain": [
       "   Unnamed: 0     Category SubCategory  \\\n",
       "0        8037  Accessories        Bags   \n",
       "1       13670  Accessories       Socks   \n",
       "2       13983        Suits     Tuxedos   \n",
       "3       12081  Accessories      Gloves   \n",
       "4       15617  Accessories   Cufflinks   \n",
       "\n",
       "                                         ProductName  \\\n",
       "0                     \"Prada Striped Shell Belt Bag\"   \n",
       "1  \"Falke - Lhasa Wool And Cashmere-blend Socks -...   \n",
       "2                    \"peak lapel tuxedo suit jacket\"   \n",
       "3                \"Thom Browne Navy 4-Bar Rib Gloves\"   \n",
       "4  \"Alice Made This - Bayley Round Patina-brass C...   \n",
       "\n",
       "                                         Description  \n",
       "0  \"One of Prada's most functional designs, this ...  \n",
       "1  \"Falke - Casual yet luxurious, Falke's dark na...  \n",
       "2  \"White and black linen blend peak lapel tuxedo...  \n",
       "3  \"Pair of rib knit cashmere gloves in navy. Sig...  \n",
       "4  \"Alice Made This - Made in the UK, these teal ...  "
      ]
     },
     "execution_count": 3,
     "metadata": {},
     "output_type": "execute_result"
    }
   ],
   "source": [
    "df = pd.read_csv('dataset/Luxury_Products_Apparel_Data.csv')\n",
    "df.head()"
   ]
  },
  {
   "cell_type": "code",
   "execution_count": 4,
   "metadata": {
    "colab": {
     "base_uri": "https://localhost:8080/"
    },
    "id": "JXmkqRH5ahGt",
    "outputId": "4f33fc53-3c29-43e9-a579-4af088ce7836"
   },
   "outputs": [
    {
     "name": "stdout",
     "output_type": "stream",
     "text": [
      "<class 'pandas.core.frame.DataFrame'>\n",
      "RangeIndex: 5000 entries, 0 to 4999\n",
      "Data columns (total 5 columns):\n",
      " #   Column       Non-Null Count  Dtype \n",
      "---  ------       --------------  ----- \n",
      " 0   Unnamed: 0   5000 non-null   int64 \n",
      " 1   Category     4963 non-null   object\n",
      " 2   SubCategory  4963 non-null   object\n",
      " 3   ProductName  5000 non-null   object\n",
      " 4   Description  5000 non-null   object\n",
      "dtypes: int64(1), object(4)\n",
      "memory usage: 195.4+ KB\n"
     ]
    }
   ],
   "source": [
    "df.info()"
   ]
  },
  {
   "cell_type": "code",
   "execution_count": 5,
   "metadata": {
    "colab": {
     "base_uri": "https://localhost:8080/"
    },
    "id": "jaWYpZfEfWbH",
    "outputId": "8d977dab-dd83-4612-a034-b2611ec6cd28"
   },
   "outputs": [
    {
     "name": "stdout",
     "output_type": "stream",
     "text": [
      "<class 'pandas.core.frame.DataFrame'>\n",
      "Index: 4963 entries, 0 to 4999\n",
      "Data columns (total 5 columns):\n",
      " #   Column       Non-Null Count  Dtype \n",
      "---  ------       --------------  ----- \n",
      " 0   Unnamed: 0   4963 non-null   int64 \n",
      " 1   Category     4963 non-null   object\n",
      " 2   SubCategory  4963 non-null   object\n",
      " 3   ProductName  4963 non-null   object\n",
      " 4   Description  4963 non-null   object\n",
      "dtypes: int64(1), object(4)\n",
      "memory usage: 232.6+ KB\n"
     ]
    }
   ],
   "source": [
    "df.dropna(subset=['Category', 'Description'], inplace=True)\n",
    "df.info()"
   ]
  },
  {
   "cell_type": "code",
   "execution_count": 6,
   "metadata": {
    "colab": {
     "base_uri": "https://localhost:8080/",
     "height": 206
    },
    "id": "Exz3ifckakxK",
    "outputId": "3c95386f-d38d-4e29-8097-08cbe03e3895"
   },
   "outputs": [
    {
     "data": {
      "text/html": [
       "<div>\n",
       "<style scoped>\n",
       "    .dataframe tbody tr th:only-of-type {\n",
       "        vertical-align: middle;\n",
       "    }\n",
       "\n",
       "    .dataframe tbody tr th {\n",
       "        vertical-align: top;\n",
       "    }\n",
       "\n",
       "    .dataframe thead th {\n",
       "        text-align: right;\n",
       "    }\n",
       "</style>\n",
       "<table border=\"1\" class=\"dataframe\">\n",
       "  <thead>\n",
       "    <tr style=\"text-align: right;\">\n",
       "      <th></th>\n",
       "      <th>Description</th>\n",
       "      <th>Category</th>\n",
       "    </tr>\n",
       "  </thead>\n",
       "  <tbody>\n",
       "    <tr>\n",
       "      <th>0</th>\n",
       "      <td>\"One of Prada's most functional designs, this ...</td>\n",
       "      <td>Accessories</td>\n",
       "    </tr>\n",
       "    <tr>\n",
       "      <th>1</th>\n",
       "      <td>\"Falke - Casual yet luxurious, Falke's dark na...</td>\n",
       "      <td>Accessories</td>\n",
       "    </tr>\n",
       "    <tr>\n",
       "      <th>2</th>\n",
       "      <td>\"White and black linen blend peak lapel tuxedo...</td>\n",
       "      <td>Suits</td>\n",
       "    </tr>\n",
       "    <tr>\n",
       "      <th>3</th>\n",
       "      <td>\"Pair of rib knit cashmere gloves in navy. Sig...</td>\n",
       "      <td>Accessories</td>\n",
       "    </tr>\n",
       "    <tr>\n",
       "      <th>4</th>\n",
       "      <td>\"Alice Made This - Made in the UK, these teal ...</td>\n",
       "      <td>Accessories</td>\n",
       "    </tr>\n",
       "  </tbody>\n",
       "</table>\n",
       "</div>"
      ],
      "text/plain": [
       "                                         Description     Category\n",
       "0  \"One of Prada's most functional designs, this ...  Accessories\n",
       "1  \"Falke - Casual yet luxurious, Falke's dark na...  Accessories\n",
       "2  \"White and black linen blend peak lapel tuxedo...        Suits\n",
       "3  \"Pair of rib knit cashmere gloves in navy. Sig...  Accessories\n",
       "4  \"Alice Made This - Made in the UK, these teal ...  Accessories"
      ]
     },
     "execution_count": 6,
     "metadata": {},
     "output_type": "execute_result"
    }
   ],
   "source": [
    "selected_columns = ['Description', 'Category']\n",
    "df = df[selected_columns]\n",
    "df.head()"
   ]
  },
  {
   "cell_type": "code",
   "execution_count": 7,
   "metadata": {
    "colab": {
     "base_uri": "https://localhost:8080/",
     "height": 424
    },
    "id": "u-FuElsYb6n_",
    "outputId": "b113a37e-0cd0-4d89-d35b-f0be9a2aae6d"
   },
   "outputs": [
    {
     "data": {
      "text/html": [
       "<div>\n",
       "<style scoped>\n",
       "    .dataframe tbody tr th:only-of-type {\n",
       "        vertical-align: middle;\n",
       "    }\n",
       "\n",
       "    .dataframe tbody tr th {\n",
       "        vertical-align: top;\n",
       "    }\n",
       "\n",
       "    .dataframe thead th {\n",
       "        text-align: right;\n",
       "    }\n",
       "</style>\n",
       "<table border=\"1\" class=\"dataframe\">\n",
       "  <thead>\n",
       "    <tr style=\"text-align: right;\">\n",
       "      <th></th>\n",
       "      <th>Description</th>\n",
       "      <th>Accessories</th>\n",
       "      <th>Activewear</th>\n",
       "      <th>Jackets/Coats</th>\n",
       "      <th>Jewelry</th>\n",
       "      <th>Pants</th>\n",
       "      <th>Shirts</th>\n",
       "      <th>Shoes</th>\n",
       "      <th>Suits</th>\n",
       "      <th>Sweaters</th>\n",
       "      <th>Underwear and Nightwear</th>\n",
       "    </tr>\n",
       "  </thead>\n",
       "  <tbody>\n",
       "    <tr>\n",
       "      <th>0</th>\n",
       "      <td>\"One of Prada's most functional designs, this ...</td>\n",
       "      <td>True</td>\n",
       "      <td>False</td>\n",
       "      <td>False</td>\n",
       "      <td>False</td>\n",
       "      <td>False</td>\n",
       "      <td>False</td>\n",
       "      <td>False</td>\n",
       "      <td>False</td>\n",
       "      <td>False</td>\n",
       "      <td>False</td>\n",
       "    </tr>\n",
       "    <tr>\n",
       "      <th>1</th>\n",
       "      <td>\"Falke - Casual yet luxurious, Falke's dark na...</td>\n",
       "      <td>True</td>\n",
       "      <td>False</td>\n",
       "      <td>False</td>\n",
       "      <td>False</td>\n",
       "      <td>False</td>\n",
       "      <td>False</td>\n",
       "      <td>False</td>\n",
       "      <td>False</td>\n",
       "      <td>False</td>\n",
       "      <td>False</td>\n",
       "    </tr>\n",
       "    <tr>\n",
       "      <th>2</th>\n",
       "      <td>\"White and black linen blend peak lapel tuxedo...</td>\n",
       "      <td>False</td>\n",
       "      <td>False</td>\n",
       "      <td>False</td>\n",
       "      <td>False</td>\n",
       "      <td>False</td>\n",
       "      <td>False</td>\n",
       "      <td>False</td>\n",
       "      <td>True</td>\n",
       "      <td>False</td>\n",
       "      <td>False</td>\n",
       "    </tr>\n",
       "    <tr>\n",
       "      <th>3</th>\n",
       "      <td>\"Pair of rib knit cashmere gloves in navy. Sig...</td>\n",
       "      <td>True</td>\n",
       "      <td>False</td>\n",
       "      <td>False</td>\n",
       "      <td>False</td>\n",
       "      <td>False</td>\n",
       "      <td>False</td>\n",
       "      <td>False</td>\n",
       "      <td>False</td>\n",
       "      <td>False</td>\n",
       "      <td>False</td>\n",
       "    </tr>\n",
       "    <tr>\n",
       "      <th>4</th>\n",
       "      <td>\"Alice Made This - Made in the UK, these teal ...</td>\n",
       "      <td>True</td>\n",
       "      <td>False</td>\n",
       "      <td>False</td>\n",
       "      <td>False</td>\n",
       "      <td>False</td>\n",
       "      <td>False</td>\n",
       "      <td>False</td>\n",
       "      <td>False</td>\n",
       "      <td>False</td>\n",
       "      <td>False</td>\n",
       "    </tr>\n",
       "    <tr>\n",
       "      <th>...</th>\n",
       "      <td>...</td>\n",
       "      <td>...</td>\n",
       "      <td>...</td>\n",
       "      <td>...</td>\n",
       "      <td>...</td>\n",
       "      <td>...</td>\n",
       "      <td>...</td>\n",
       "      <td>...</td>\n",
       "      <td>...</td>\n",
       "      <td>...</td>\n",
       "      <td>...</td>\n",
       "    </tr>\n",
       "    <tr>\n",
       "      <th>4995</th>\n",
       "      <td>\"Leather upper. Concealed front lace-up closur...</td>\n",
       "      <td>False</td>\n",
       "      <td>False</td>\n",
       "      <td>False</td>\n",
       "      <td>False</td>\n",
       "      <td>False</td>\n",
       "      <td>False</td>\n",
       "      <td>True</td>\n",
       "      <td>False</td>\n",
       "      <td>False</td>\n",
       "      <td>False</td>\n",
       "    </tr>\n",
       "    <tr>\n",
       "      <th>4996</th>\n",
       "      <td>\"Swiss-made PVD-coated stainless steel two-han...</td>\n",
       "      <td>False</td>\n",
       "      <td>False</td>\n",
       "      <td>False</td>\n",
       "      <td>True</td>\n",
       "      <td>False</td>\n",
       "      <td>False</td>\n",
       "      <td>False</td>\n",
       "      <td>False</td>\n",
       "      <td>False</td>\n",
       "      <td>False</td>\n",
       "    </tr>\n",
       "    <tr>\n",
       "      <th>4997</th>\n",
       "      <td>\"Bordeaux red leather two tone braces from Fef...</td>\n",
       "      <td>True</td>\n",
       "      <td>False</td>\n",
       "      <td>False</td>\n",
       "      <td>False</td>\n",
       "      <td>False</td>\n",
       "      <td>False</td>\n",
       "      <td>False</td>\n",
       "      <td>False</td>\n",
       "      <td>False</td>\n",
       "      <td>False</td>\n",
       "    </tr>\n",
       "    <tr>\n",
       "      <th>4998</th>\n",
       "      <td>\"Valentino - Crafted in lightweight virgin-woo...</td>\n",
       "      <td>False</td>\n",
       "      <td>True</td>\n",
       "      <td>False</td>\n",
       "      <td>False</td>\n",
       "      <td>False</td>\n",
       "      <td>False</td>\n",
       "      <td>False</td>\n",
       "      <td>False</td>\n",
       "      <td>False</td>\n",
       "      <td>False</td>\n",
       "    </tr>\n",
       "    <tr>\n",
       "      <th>4999</th>\n",
       "      <td>\"Kenzo's jogging bottoms rework a masculine wa...</td>\n",
       "      <td>False</td>\n",
       "      <td>True</td>\n",
       "      <td>False</td>\n",
       "      <td>False</td>\n",
       "      <td>False</td>\n",
       "      <td>False</td>\n",
       "      <td>False</td>\n",
       "      <td>False</td>\n",
       "      <td>False</td>\n",
       "      <td>False</td>\n",
       "    </tr>\n",
       "  </tbody>\n",
       "</table>\n",
       "<p>4963 rows × 11 columns</p>\n",
       "</div>"
      ],
      "text/plain": [
       "                                            Description  Accessories  \\\n",
       "0     \"One of Prada's most functional designs, this ...         True   \n",
       "1     \"Falke - Casual yet luxurious, Falke's dark na...         True   \n",
       "2     \"White and black linen blend peak lapel tuxedo...        False   \n",
       "3     \"Pair of rib knit cashmere gloves in navy. Sig...         True   \n",
       "4     \"Alice Made This - Made in the UK, these teal ...         True   \n",
       "...                                                 ...          ...   \n",
       "4995  \"Leather upper. Concealed front lace-up closur...        False   \n",
       "4996  \"Swiss-made PVD-coated stainless steel two-han...        False   \n",
       "4997  \"Bordeaux red leather two tone braces from Fef...         True   \n",
       "4998  \"Valentino - Crafted in lightweight virgin-woo...        False   \n",
       "4999  \"Kenzo's jogging bottoms rework a masculine wa...        False   \n",
       "\n",
       "      Activewear  Jackets/Coats  Jewelry  Pants  Shirts  Shoes  Suits  \\\n",
       "0          False          False    False  False   False  False  False   \n",
       "1          False          False    False  False   False  False  False   \n",
       "2          False          False    False  False   False  False   True   \n",
       "3          False          False    False  False   False  False  False   \n",
       "4          False          False    False  False   False  False  False   \n",
       "...          ...            ...      ...    ...     ...    ...    ...   \n",
       "4995       False          False    False  False   False   True  False   \n",
       "4996       False          False     True  False   False  False  False   \n",
       "4997       False          False    False  False   False  False  False   \n",
       "4998        True          False    False  False   False  False  False   \n",
       "4999        True          False    False  False   False  False  False   \n",
       "\n",
       "      Sweaters  Underwear and Nightwear  \n",
       "0        False                    False  \n",
       "1        False                    False  \n",
       "2        False                    False  \n",
       "3        False                    False  \n",
       "4        False                    False  \n",
       "...        ...                      ...  \n",
       "4995     False                    False  \n",
       "4996     False                    False  \n",
       "4997     False                    False  \n",
       "4998     False                    False  \n",
       "4999     False                    False  \n",
       "\n",
       "[4963 rows x 11 columns]"
      ]
     },
     "execution_count": 7,
     "metadata": {},
     "output_type": "execute_result"
    }
   ],
   "source": [
    "labels = pd.get_dummies(df.Category)\n",
    "df = pd.concat([df, labels], axis=1)\n",
    "df = df.drop(columns='Category')\n",
    "df"
   ]
  },
  {
   "cell_type": "code",
   "execution_count": 8,
   "metadata": {
    "colab": {
     "base_uri": "https://localhost:8080/"
    },
    "id": "hbkw5AD1cPax",
    "outputId": "9038e9e9-fbd1-4d24-92cc-22a7cf5303e2"
   },
   "outputs": [
    {
     "name": "stdout",
     "output_type": "stream",
     "text": [
      "<class 'pandas.core.frame.DataFrame'>\n",
      "Index: 4963 entries, 0 to 4999\n",
      "Data columns (total 11 columns):\n",
      " #   Column                   Non-Null Count  Dtype \n",
      "---  ------                   --------------  ----- \n",
      " 0   Description              4963 non-null   object\n",
      " 1   Accessories              4963 non-null   bool  \n",
      " 2   Activewear               4963 non-null   bool  \n",
      " 3   Jackets/Coats            4963 non-null   bool  \n",
      " 4   Jewelry                  4963 non-null   bool  \n",
      " 5   Pants                    4963 non-null   bool  \n",
      " 6   Shirts                   4963 non-null   bool  \n",
      " 7   Shoes                    4963 non-null   bool  \n",
      " 8   Suits                    4963 non-null   bool  \n",
      " 9   Sweaters                 4963 non-null   bool  \n",
      " 10  Underwear and Nightwear  4963 non-null   bool  \n",
      "dtypes: bool(10), object(1)\n",
      "memory usage: 126.0+ KB\n"
     ]
    }
   ],
   "source": [
    "df.info()"
   ]
  },
  {
   "cell_type": "code",
   "execution_count": 9,
   "metadata": {
    "colab": {
     "base_uri": "https://localhost:8080/"
    },
    "id": "L-7ACdK-c9nV",
    "outputId": "843a5cc9-5d49-4950-8808-dd75d7e4e978"
   },
   "outputs": [
    {
     "name": "stderr",
     "output_type": "stream",
     "text": [
      "[nltk_data] Downloading package stopwords to\n",
      "[nltk_data]     C:\\Users\\ASUS\\AppData\\Roaming\\nltk_data...\n",
      "[nltk_data]   Package stopwords is already up-to-date!\n",
      "[nltk_data] Downloading package punkt to\n",
      "[nltk_data]     C:\\Users\\ASUS\\AppData\\Roaming\\nltk_data...\n",
      "[nltk_data]   Package punkt is already up-to-date!\n"
     ]
    }
   ],
   "source": [
    "nltk.download('stopwords')\n",
    "nltk.download('punkt')\n",
    "\n",
    "def preprocess_text(text):\n",
    "\n",
    "    words = word_tokenize(text)\n",
    "    stop_words = set(stopwords.words('english'))\n",
    "    words = [word for word in words if word.lower() not in stop_words]\n",
    "    words = [word for word in words if word.isalnum()]\n",
    "    preprocessed_text = ' '.join(words)\n",
    "\n",
    "    return preprocessed_text\n",
    "\n",
    "products = df['Description'].apply(preprocess_text).values\n",
    "labels = df[['Accessories', 'Activewear', 'Jackets/Coats', 'Jewelry', 'Pants',\n",
    "            'Shirts', 'Shoes', 'Suits', 'Sweaters', 'Underwear and Nightwear']].values"
   ]
  },
  {
   "cell_type": "code",
   "execution_count": 10,
   "metadata": {
    "id": "QV4O9YCudX52"
   },
   "outputs": [],
   "source": [
    "products_train, products_test, labels_train, labels_test = train_test_split(products, labels, test_size=0.2)"
   ]
  },
  {
   "cell_type": "code",
   "execution_count": 11,
   "metadata": {
    "id": "dLkYA3FRdmau"
   },
   "outputs": [],
   "source": [
    "tokenizer = Tokenizer(num_words=1250, oov_token='-')\n",
    "tokenizer.fit_on_texts(products_train)\n",
    "\n",
    "sequence_train = tokenizer.texts_to_sequences(products_train)\n",
    "sequence_test = tokenizer.texts_to_sequences(products_test)\n",
    "\n",
    "padded_train = pad_sequences(sequence_train)\n",
    "padded_test = pad_sequences(sequence_test)"
   ]
  },
  {
   "cell_type": "code",
   "execution_count": 12,
   "metadata": {
    "id": "y-Rgg-KjgMy6"
   },
   "outputs": [],
   "source": [
    "model = tf.keras.Sequential([\n",
    "    tf.keras.layers.Embedding(input_dim=1250, output_dim=16),\n",
    "    tf.keras.layers.LSTM(64),\n",
    "    tf.keras.layers.Dense(128, activation='relu'),\n",
    "    tf.keras.layers.Dropout(0.2),\n",
    "    tf.keras.layers.Dense(64, activation='relu'),\n",
    "    tf.keras.layers.Dropout(0.5),\n",
    "    tf.keras.layers.Dense(10, activation='softmax')\n",
    "])\n",
    "model.compile(loss='categorical_crossentropy',optimizer='adam',metrics=['accuracy'])"
   ]
  },
  {
   "cell_type": "code",
   "execution_count": 13,
   "metadata": {
    "colab": {
     "base_uri": "https://localhost:8080/"
    },
    "id": "1-LLz9o-gY-s",
    "outputId": "d0b0c857-149c-4333-96a6-fe3e2b2528be"
   },
   "outputs": [
    {
     "name": "stdout",
     "output_type": "stream",
     "text": [
      "Epoch 1/50\n",
      "249/249 - 30s - loss: 1.8559 - accuracy: 0.2960 - val_loss: 1.3751 - val_accuracy: 0.5307 - 30s/epoch - 121ms/step\n",
      "Epoch 2/50\n",
      "249/249 - 24s - loss: 1.2799 - accuracy: 0.5156 - val_loss: 1.0739 - val_accuracy: 0.5992 - 24s/epoch - 98ms/step\n",
      "Epoch 3/50\n",
      "249/249 - 24s - loss: 1.0854 - accuracy: 0.5985 - val_loss: 0.9954 - val_accuracy: 0.6606 - 24s/epoch - 96ms/step\n",
      "Epoch 4/50\n",
      "249/249 - 24s - loss: 0.9348 - accuracy: 0.6657 - val_loss: 0.8445 - val_accuracy: 0.6878 - 24s/epoch - 98ms/step\n",
      "Epoch 5/50\n",
      "249/249 - 24s - loss: 0.8346 - accuracy: 0.7169 - val_loss: 0.7652 - val_accuracy: 0.7311 - 24s/epoch - 96ms/step\n",
      "Epoch 6/50\n",
      "249/249 - 24s - loss: 0.6724 - accuracy: 0.7557 - val_loss: 0.6892 - val_accuracy: 0.7633 - 24s/epoch - 96ms/step\n",
      "Epoch 7/50\n",
      "249/249 - 24s - loss: 0.6247 - accuracy: 0.7786 - val_loss: 0.6430 - val_accuracy: 0.7805 - 24s/epoch - 98ms/step\n",
      "Epoch 8/50\n",
      "249/249 - 25s - loss: 0.5754 - accuracy: 0.7970 - val_loss: 0.6599 - val_accuracy: 0.7835 - 25s/epoch - 101ms/step\n",
      "Epoch 9/50\n",
      "249/249 - 24s - loss: 0.5192 - accuracy: 0.8229 - val_loss: 0.6706 - val_accuracy: 0.8097 - 24s/epoch - 97ms/step\n",
      "Epoch 10/50\n",
      "249/249 - 24s - loss: 0.6415 - accuracy: 0.7967 - val_loss: 0.6385 - val_accuracy: 0.7976 - 24s/epoch - 96ms/step\n",
      "Epoch 11/50\n",
      "249/249 - 24s - loss: 0.5087 - accuracy: 0.8254 - val_loss: 0.5532 - val_accuracy: 0.8268 - 24s/epoch - 95ms/step\n",
      "Epoch 12/50\n",
      "249/249 - 25s - loss: 0.4164 - accuracy: 0.8582 - val_loss: 0.6435 - val_accuracy: 0.8268 - 25s/epoch - 99ms/step\n",
      "Epoch 13/50\n",
      "249/249 - 24s - loss: 0.3810 - accuracy: 0.8846 - val_loss: 0.6948 - val_accuracy: 0.8258 - 24s/epoch - 98ms/step\n",
      "Epoch 14/50\n",
      "249/249 - 24s - loss: 0.3464 - accuracy: 0.8899 - val_loss: 0.5728 - val_accuracy: 0.8419 - 24s/epoch - 98ms/step\n",
      "Epoch 15/50\n",
      "249/249 - 24s - loss: 0.3128 - accuracy: 0.9063 - val_loss: 0.5761 - val_accuracy: 0.8550 - 24s/epoch - 97ms/step\n",
      "Epoch 16/50\n",
      "249/249 - 25s - loss: 0.2598 - accuracy: 0.9262 - val_loss: 0.6235 - val_accuracy: 0.8630 - 25s/epoch - 99ms/step\n",
      "Epoch 17/50\n",
      "249/249 - 24s - loss: 0.3041 - accuracy: 0.9139 - val_loss: 0.4856 - val_accuracy: 0.8681 - 24s/epoch - 98ms/step\n",
      "Epoch 18/50\n",
      "249/249 - 24s - loss: 0.3023 - accuracy: 0.9224 - val_loss: 0.5728 - val_accuracy: 0.8439 - 24s/epoch - 96ms/step\n",
      "Epoch 19/50\n",
      "249/249 - 24s - loss: 0.2753 - accuracy: 0.9270 - val_loss: 0.5072 - val_accuracy: 0.8812 - 24s/epoch - 97ms/step\n",
      "Epoch 20/50\n",
      "249/249 - 24s - loss: 0.2069 - accuracy: 0.9456 - val_loss: 0.6979 - val_accuracy: 0.8610 - 24s/epoch - 97ms/step\n",
      "Epoch 21/50\n",
      "249/249 - 24s - loss: 0.2416 - accuracy: 0.9355 - val_loss: 0.4755 - val_accuracy: 0.8892 - 24s/epoch - 96ms/step\n",
      "Epoch 22/50\n",
      "249/249 - 24s - loss: 0.1635 - accuracy: 0.9557 - val_loss: 0.5186 - val_accuracy: 0.8792 - 24s/epoch - 98ms/step\n",
      "Epoch 23/50\n",
      "249/249 - 25s - loss: 0.1512 - accuracy: 0.9605 - val_loss: 0.5572 - val_accuracy: 0.8882 - 25s/epoch - 99ms/step\n",
      "Epoch 24/50\n",
      "249/249 - 25s - loss: 0.1176 - accuracy: 0.9668 - val_loss: 0.5997 - val_accuracy: 0.8832 - 25s/epoch - 99ms/step\n",
      "Epoch 25/50\n",
      "249/249 - 24s - loss: 0.2271 - accuracy: 0.9406 - val_loss: 0.5692 - val_accuracy: 0.8792 - 24s/epoch - 96ms/step\n",
      "Epoch 26/50\n",
      "249/249 - 24s - loss: 0.1791 - accuracy: 0.9537 - val_loss: 0.5536 - val_accuracy: 0.8781 - 24s/epoch - 97ms/step\n",
      "Epoch 27/50\n",
      "249/249 - 24s - loss: 0.1523 - accuracy: 0.9607 - val_loss: 0.6542 - val_accuracy: 0.8842 - 24s/epoch - 97ms/step\n",
      "Epoch 28/50\n",
      "249/249 - 24s - loss: 0.1330 - accuracy: 0.9683 - val_loss: 0.6017 - val_accuracy: 0.8852 - 24s/epoch - 96ms/step\n",
      "Epoch 29/50\n",
      "249/249 - 24s - loss: 0.1068 - accuracy: 0.9700 - val_loss: 0.6213 - val_accuracy: 0.8852 - 24s/epoch - 98ms/step\n",
      "Epoch 30/50\n",
      "249/249 - 24s - loss: 0.1174 - accuracy: 0.9708 - val_loss: 0.6166 - val_accuracy: 0.8922 - 24s/epoch - 97ms/step\n",
      "Epoch 31/50\n",
      "249/249 - 25s - loss: 0.1074 - accuracy: 0.9713 - val_loss: 0.6632 - val_accuracy: 0.8802 - 25s/epoch - 99ms/step\n",
      "Epoch 32/50\n",
      "249/249 - 24s - loss: 0.1269 - accuracy: 0.9635 - val_loss: 0.6230 - val_accuracy: 0.8902 - 24s/epoch - 95ms/step\n",
      "Epoch 33/50\n",
      "249/249 - 24s - loss: 0.1151 - accuracy: 0.9708 - val_loss: 0.6620 - val_accuracy: 0.8943 - 24s/epoch - 95ms/step\n",
      "Epoch 34/50\n",
      "249/249 - 25s - loss: 0.0906 - accuracy: 0.9791 - val_loss: 0.6947 - val_accuracy: 0.8882 - 25s/epoch - 99ms/step\n",
      "Epoch 35/50\n",
      "249/249 - 24s - loss: 0.1096 - accuracy: 0.9710 - val_loss: 0.7722 - val_accuracy: 0.8872 - 24s/epoch - 97ms/step\n",
      "Epoch 36/50\n",
      "249/249 - 24s - loss: 0.0831 - accuracy: 0.9796 - val_loss: 0.8510 - val_accuracy: 0.8701 - 24s/epoch - 98ms/step\n",
      "Epoch 37/50\n",
      "249/249 - 24s - loss: 0.0732 - accuracy: 0.9829 - val_loss: 0.7439 - val_accuracy: 0.8963 - 24s/epoch - 97ms/step\n",
      "Epoch 38/50\n",
      "249/249 - 24s - loss: 0.1159 - accuracy: 0.9713 - val_loss: 0.7019 - val_accuracy: 0.8862 - 24s/epoch - 97ms/step\n",
      "Epoch 39/50\n",
      "249/249 - 25s - loss: 0.0748 - accuracy: 0.9773 - val_loss: 0.7566 - val_accuracy: 0.8882 - 25s/epoch - 100ms/step\n",
      "Epoch 40/50\n",
      "249/249 - 24s - loss: 0.0784 - accuracy: 0.9796 - val_loss: 0.8031 - val_accuracy: 0.8862 - 24s/epoch - 97ms/step\n",
      "Epoch 41/50\n",
      "249/249 - 25s - loss: 0.0812 - accuracy: 0.9819 - val_loss: 0.8149 - val_accuracy: 0.8902 - 25s/epoch - 99ms/step\n",
      "Epoch 42/50\n",
      "249/249 - 24s - loss: 0.0564 - accuracy: 0.9836 - val_loss: 0.7539 - val_accuracy: 0.8912 - 24s/epoch - 96ms/step\n",
      "Epoch 43/50\n",
      "\n",
      "Akurasi pelatihan dan validasi telah mencapai 90%!\n",
      "249/249 - 24s - loss: 0.0854 - accuracy: 0.9801 - val_loss: 0.8455 - val_accuracy: 0.9003 - 24s/epoch - 96ms/step\n"
     ]
    }
   ],
   "source": [
    "class myCallback(tf.keras.callbacks.Callback):\n",
    "    def on_epoch_end(self, epoch, logs={}):\n",
    "        if logs.get('accuracy') > 0.90 and logs.get('val_accuracy') > 0.90:\n",
    "            self.model.stop_training = True\n",
    "            print(\"\\nAkurasi pelatihan dan validasi telah mencapai 90%!\")\n",
    "callbacks = myCallback()\n",
    "\n",
    "num_epochs = 50\n",
    "history = model.fit(padded_train, labels_train, batch_size=16, epochs=num_epochs,\n",
    "                    validation_data=(padded_test, labels_test), verbose=2, callbacks=[callbacks])"
   ]
  },
  {
   "cell_type": "code",
   "execution_count": 14,
   "metadata": {
    "colab": {
     "base_uri": "https://localhost:8080/",
     "height": 472
    },
    "id": "JxJfQ4ZsF4gP",
    "outputId": "a5a8531f-e903-4002-d5cc-2cd3989be081"
   },
   "outputs": [
    {
     "data": {
      "image/png": "[encoded data removed]",
      "text/plain": [
       "<Figure size 640x480 with 1 Axes>"
      ]
     },
     "metadata": {},
     "output_type": "display_data"
    }
   ],
   "source": [
    "plt.plot(history.history['loss'], label='Train Loss')\n",
    "plt.plot(history.history['val_loss'], label='Validation Loss')\n",
    "plt.title('Training and Validation Loss')\n",
    "plt.xlabel('Epoch')\n",
    "plt.ylabel('Loss')\n",
    "plt.legend()\n",
    "plt.show()"
   ]
  },
  {
   "cell_type": "code",
   "execution_count": 15,
   "metadata": {
    "colab": {
     "base_uri": "https://localhost:8080/",
     "height": 472
    },
    "id": "acDBpLpvGEJK",
    "outputId": "7118da5d-ec08-4bf9-f6fc-b41b0f238883"
   },
   "outputs": [
    {
     "data": {
      "image/png": "[encoded data removed]",
      "text/plain": [
       "<Figure size 640x480 with 1 Axes>"
      ]
     },
     "metadata": {},
     "output_type": "display_data"
    }
   ],
   "source": [
    "plt.plot(history.history['accuracy'], label='Train Accuracy')\n",
    "plt.plot(history.history['val_accuracy'], label='Validation Accuracy')\n",
    "plt.title('Training and Validation Accuracy')\n",
    "plt.xlabel('Epoch')\n",
    "plt.ylabel('Accuracy')\n",
    "plt.legend()\n",
    "plt.show()"
   ]
  }
 ],
 "metadata": {
  "colab": {
   "provenance": []
  },
  "kernelspec": {
   "display_name": "Python 3 (ipykernel)",
   "language": "python",
   "name": "python3"
  },
  "language_info": {
   "codemirror_mode": {
    "name": "ipython",
    "version": 3
   },
   "file_extension": ".py",
   "mimetype": "text/x-python",
   "name": "python",
   "nbconvert_exporter": "python",
   "pygments_lexer": "ipython3",
   "version": "3.11.5"
  }
 },
 "nbformat": 4,
 "nbformat_minor": 4
}
